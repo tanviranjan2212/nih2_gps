{
 "cells": [
  {
   "cell_type": "code",
   "execution_count": 1,
   "metadata": {},
   "outputs": [],
   "source": [
    "import numpy as np"
   ]
  },
  {
   "cell_type": "code",
   "execution_count": 2,
   "metadata": {},
   "outputs": [],
   "source": [
    "ID = np.array(['U1281303753', 'U35797573', 'U8169009', 'U33657183', 'U89170266',\n",
    "       'U22142512', 'U90550380', 'U78923177', 'U30521358', 'U4242859528',\n",
    "       'U8924256758', 'U1946530656', 'U8606020338', 'U6328536102',\n",
    "       'U5538238366', 'U3939780345', 'U5844740495', 'U6052086621',\n",
    "       'U7774870662', 'U3365978523', 'U1529282101', 'U3869458124',\n",
    "       'U8462970438', 'U1245789989', 'U4414194375', 'U6126570502',\n",
    "       'U7230385567', 'U8867867767', 'U6133174052', 'U5021714125',\n",
    "       'U9181511825', 'U6843668806', 'U1983571026', 'U5685193213',\n",
    "       'U4563664331', 'U4137348153', 'U3001614760', 'U3013311030',\n",
    "       'U6359278990', 'U9018486007', 'U0085559788', 'U5770284209',\n",
    "       'U9369384553', 'U2758355456', 'U1944662906', 'U5994909006',\n",
    "       'U2228512116', 'U2733152649', 'U2730567302', 'U0867104114',\n",
    "       'U3876837406', 'U5035602533', 'U1534824418', 'U6476382585',\n",
    "       'U8720585937', 'U0967153737', 'U9303130604', 'U6157988505',\n",
    "       'U4230922736', 'U6366186057', 'U7617641938'], dtype=object)"
   ]
  },
  {
   "cell_type": "code",
   "execution_count": 4,
   "metadata": {},
   "outputs": [],
   "source": [
    "# %%\n",
    "import sys\n",
    "import os \n",
    "\n",
    "PATH_TO_CORTEX = '/Users/tanviranjan/LAMP-cortex_apr18_21'\n",
    "sys.path.insert(1, PATH_TO_CORTEX)\n",
    "sys.path.insert(1, os.path.join(PATH_TO_CORTEX, 'cortex'))\n",
    "import cortex\n",
    "import LAMP as lamp\n",
    "lamp.connect(\"admin\", \"LAMPLAMP\")\n",
    "PARTICIPANTS = ID ### ids of participants here ###\n",
    "\n"
   ]
  },
  {
   "cell_type": "code",
   "execution_count": 10,
   "metadata": {},
   "outputs": [],
   "source": [
    "os.environ['LAMP_ACCESS_KEY'] = \"admin\"\n",
    "os.environ['LAMP_SECRET_KEY'] = \"LAMPLAMP\"\n",
    "os.environ['LAMP_SERVER_ADDRESS']='api2.lamp.digital'"
   ]
  },
  {
   "cell_type": "code",
   "execution_count": 11,
   "metadata": {},
   "outputs": [
    {
     "ename": "TypeError",
     "evalue": "hometime() got an unexpected keyword argument 'id'",
     "output_type": "error",
     "traceback": [
      "\u001b[0;31m---------------------------------------------------------------------------\u001b[0m",
      "\u001b[0;31mTypeError\u001b[0m                                 Traceback (most recent call last)",
      "\u001b[0;32m<ipython-input-11-6d1e38b5443b>\u001b[0m in \u001b[0;36m<module>\u001b[0;34m\u001b[0m\n\u001b[1;32m      3\u001b[0m \u001b[0;31m#cortex.feature_types.log.propagate = False\u001b[0m\u001b[0;34m\u001b[0m\u001b[0;34m\u001b[0m\u001b[0;34m\u001b[0m\u001b[0m\n\u001b[1;32m      4\u001b[0m \u001b[0;34m\u001b[0m\u001b[0m\n\u001b[0;32m----> 5\u001b[0;31m \u001b[0mcortex\u001b[0m\u001b[0;34m.\u001b[0m\u001b[0mhometime\u001b[0m\u001b[0;34m(\u001b[0m\u001b[0mid\u001b[0m\u001b[0;34m=\u001b[0m\u001b[0;34m\"U26468383\"\u001b[0m\u001b[0;34m,\u001b[0m \u001b[0mstart\u001b[0m\u001b[0;34m=\u001b[0m\u001b[0;36m1618232667000\u001b[0m \u001b[0;34m-\u001b[0m \u001b[0;34m(\u001b[0m\u001b[0;36m86400000\u001b[0m \u001b[0;34m*\u001b[0m \u001b[0;36m479\u001b[0m\u001b[0;34m)\u001b[0m\u001b[0;34m,\u001b[0m \u001b[0mend\u001b[0m\u001b[0;34m=\u001b[0m\u001b[0;36m1618232667000\u001b[0m \u001b[0;34m-\u001b[0m \u001b[0;34m(\u001b[0m\u001b[0;36m86400000\u001b[0m \u001b[0;34m*\u001b[0m \u001b[0;36m381\u001b[0m\u001b[0;34m)\u001b[0m\u001b[0;34m,\u001b[0m \u001b[0mresolution\u001b[0m\u001b[0;34m=\u001b[0m\u001b[0;36m86400000\u001b[0m\u001b[0;34m)\u001b[0m \u001b[0;31m#1618232667000 - (86400000 * 60)\u001b[0m\u001b[0;34m\u001b[0m\u001b[0;34m\u001b[0m\u001b[0m\n\u001b[0m",
      "\u001b[0;31mTypeError\u001b[0m: hometime() got an unexpected keyword argument 'id'"
     ]
    }
   ],
   "source": [
    "import numpy as np\n",
    "np.seterr(invalid='raise')\n",
    "#cortex.feature_types.log.propagate = False\n",
    "\n",
    "cortex.hometime(id=\"U26468383\", start=1618232667000 - (86400000 * 479), end=1618232667000 - (86400000 * 381), resolution=86400000) #1618232667000 - (86400000 * 60)\n"
   ]
  },
  {
   "cell_type": "code",
   "execution_count": 9,
   "metadata": {},
   "outputs": [
    {
     "name": "stderr",
     "output_type": "stream",
     "text": [
      "[INFO:feature_types:_wrapper2] Processing raw feature \"lamp.survey\"...\n"
     ]
    },
    {
     "ename": "TypeError",
     "evalue": "'list' object is not a mapping",
     "output_type": "error",
     "traceback": [
      "\u001b[0;31m---------------------------------------------------------------------------\u001b[0m",
      "\u001b[0;31mTypeError\u001b[0m                                 Traceback (most recent call last)",
      "\u001b[0;32m<ipython-input-9-875f57fa012f>\u001b[0m in \u001b[0;36m<module>\u001b[0;34m\u001b[0m\n\u001b[1;32m     16\u001b[0m \u001b[0;32mfor\u001b[0m \u001b[0miid\u001b[0m\u001b[0;34m,\u001b[0m \u001b[0mTEST_ID\u001b[0m \u001b[0;32min\u001b[0m \u001b[0menumerate\u001b[0m\u001b[0;34m(\u001b[0m\u001b[0mID\u001b[0m\u001b[0;34m)\u001b[0m\u001b[0;34m:\u001b[0m\u001b[0;34m\u001b[0m\u001b[0;34m\u001b[0m\u001b[0m\n\u001b[1;32m     17\u001b[0m \u001b[0;34m\u001b[0m\u001b[0m\n\u001b[0;32m---> 18\u001b[0;31m     \u001b[0mstart_results\u001b[0m \u001b[0;34m=\u001b[0m \u001b[0;34m{\u001b[0m\u001b[0;34m**\u001b[0m\u001b[0msurvey\u001b[0m\u001b[0;34m(\u001b[0m\u001b[0mid\u001b[0m\u001b[0;34m=\u001b[0m\u001b[0mTEST_ID\u001b[0m\u001b[0;34m,\u001b[0m \u001b[0m_limit\u001b[0m\u001b[0;34m=\u001b[0m\u001b[0;34m-\u001b[0m\u001b[0;36m1\u001b[0m\u001b[0;34m,\u001b[0m \u001b[0mstart\u001b[0m\u001b[0;34m=\u001b[0m\u001b[0;36m0\u001b[0m\u001b[0;34m,\u001b[0m \u001b[0mend\u001b[0m\u001b[0;34m=\u001b[0m\u001b[0;36m2000000000000\u001b[0m\u001b[0;34m)\u001b[0m\u001b[0;34m}\u001b[0m\u001b[0;34m;\u001b[0m\u001b[0;34m\u001b[0m\u001b[0;34m\u001b[0m\u001b[0m\n\u001b[0m\u001b[1;32m     19\u001b[0m \u001b[0;34m\u001b[0m\u001b[0m\n\u001b[1;32m     20\u001b[0m     \u001b[0;32mif\u001b[0m \u001b[0mlen\u001b[0m\u001b[0;34m(\u001b[0m\u001b[0mstart_results\u001b[0m\u001b[0;34m)\u001b[0m\u001b[0;34m>\u001b[0m\u001b[0;36m0\u001b[0m\u001b[0;34m:\u001b[0m\u001b[0;34m\u001b[0m\u001b[0;34m\u001b[0m\u001b[0m\n",
      "\u001b[0;31mTypeError\u001b[0m: 'list' object is not a mapping"
     ]
    }
   ],
   "source": [
    "from cortex.raw.results import results as sensor_results\n",
    "from cortex.raw.cognitive_games import results as cg_results\n",
    "from cortex.raw.survey import survey\n",
    "import pandas as pd\n",
    "# LAMP_SENSORS = [\"lamp.accelerometer\", \"lamp.accelerometer.motion\", #\"lamp.analytics\", \n",
    "#             \"lamp.blood_pressure\", \"lamp.bluetooth\", \"lamp.calls\", \"lamp.distance\",\n",
    "#             \"lamp.flights\", \"lamp.gps\", \"lamp.gps.contextual\", \"lamp.gyroscope\",\n",
    "#             \"lamp.heart_rate\", \"lamp.height\", \"lamp.magnetometer\", \"lamp.respiratory_rate\",\n",
    "#             \"lamp.screen_state\",\"lamp.segment\", \"lamp.sleep\", \"lamp.sms\", \"lamp.steps\",\n",
    "#             \"lamp.weight\", \"lamp.wifi\"]\n",
    "LAMP_COGNITIVE_GAMES = ['lamp.jewels_a', 'lamp.jewels_b'];\n",
    "\n",
    "LAMP_SENSORS = [\"lamp.screen_state\"];\n",
    "\n",
    "st_end_tm = np.zeros(shape=(len(ID),2));\n",
    "for iid, TEST_ID in enumerate(ID):\n",
    "    \n",
    "    start_results = {**survey(id=TEST_ID, _limit=-1, start=0, end=2000000000000)};\n",
    "\n",
    "    if len(start_results)>0:\n",
    "        start = pd.concat([pd.DataFrame.from_dict(start_results[res]) for res in start_results])['timestamp'].min()\n",
    "        \n",
    "        end_results = {**survey(id=TEST_ID, _limit=1, start=0, end=2000000000000)};\n",
    "        \n",
    "        end = pd.concat([pd.DataFrame.from_dict(end_results[res]) for res in end_results])['timestamp'].max()\n",
    "        st_end_tm[iid,:] = np.array([start, end]);\n",
    "        \n",
    "    else:\n",
    "        st_end_tm[iid,:] = np.array([float(\"nan\"), float(\"nan\")]);\n",
    "        \n",
    "    print(iid)"
   ]
  },
  {
   "cell_type": "code",
   "execution_count": null,
   "metadata": {},
   "outputs": [],
   "source": [
    "from cortex.raw.results import results as sensor_results\n",
    "from cortex.raw.cognitive_games import results as cg_results\n",
    "from cortex.raw.survey import survey\n",
    "import pandas as pd\n",
    "LAMP_SENSORS = [\"lamp.accelerometer\", \"lamp.accelerometer.motion\", #\"lamp.analytics\", \n",
    "            \"lamp.blood_pressure\", \"lamp.bluetooth\", \"lamp.calls\", \"lamp.distance\",\n",
    "            \"lamp.flights\", \"lamp.gps\", \"lamp.gps.contextual\", \"lamp.gyroscope\",\n",
    "            \"lamp.heart_rate\", \"lamp.height\", \"lamp.magnetometer\", \"lamp.respiratory_rate\",\n",
    "            \"lamp.screen_state\",\"lamp.segment\", \"lamp.sleep\", \"lamp.sms\", \"lamp.steps\",\n",
    "            \"lamp.weight\", \"lamp.wifi\"]\n",
    "LAMP_COGNITIVE_GAMES = ['lamp.jewels_a', 'lamp.jewels_b']\n",
    "start_results = {**sensor_results(TEST_ID, origin=LAMP_SENSORS, _limit=-1), \n",
    "                **cg_results(TEST_ID, origin=LAMP_COGNITIVE_GAMES, _limit=-1),\n",
    "                }#**survey(id=TEST_ID, _limit=-1, start=0, end=2000000000000)}\n",
    "start = pd.concat([pd.DataFrame.from_dict(start_results[res]) for res in start_results])['timestamp'].min()\n",
    "end_results = {**sensor_results(TEST_ID, origin=LAMP_SENSORS, _limit=1), \n",
    "                    **cg_results(TEST_ID, origin=LAMP_COGNITIVE_GAMES, _limit=1),\n",
    "                    }#**survey(id=TEST_ID, _limit=1, start=0, end=2000000000000)}  \n",
    "end = pd.concat([pd.DataFrame.from_dict(end_results[res]) for res in end_results])['timestamp'].max()\n",
    "start, end"
   ]
  },
  {
   "cell_type": "code",
   "execution_count": null,
   "metadata": {},
   "outputs": [],
   "source": []
  }
 ],
 "metadata": {
  "kernelspec": {
   "display_name": "Python 3",
   "language": "python",
   "name": "python3"
  },
  "language_info": {
   "codemirror_mode": {
    "name": "ipython",
    "version": 3
   },
   "file_extension": ".py",
   "mimetype": "text/x-python",
   "name": "python",
   "nbconvert_exporter": "python",
   "pygments_lexer": "ipython3",
   "version": "3.7.3"
  }
 },
 "nbformat": 4,
 "nbformat_minor": 2
}
